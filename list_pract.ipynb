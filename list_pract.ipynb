{
 "cells": [
  {
   "cell_type": "code",
   "execution_count": 28,
   "metadata": {},
   "outputs": [
    {
     "name": "stdout",
     "output_type": "stream",
     "text": [
      "55\n",
      "55\n"
     ]
    }
   ],
   "source": [
    "# 1. Write a Python program to sum all the items in a list. Go to the editor\n",
    "a=[1,12,13,14,15]\n",
    "i=0\n",
    "sum=0\n",
    "while i<len(a):\n",
    "    sum+=a[i]\n",
    "    i+=1\n",
    "print(sum)\n",
    "\n",
    "#second method by using for loop\n",
    "b=[1,12,13,14,15]\n",
    "result=0\n",
    "for i in range(len(b)):\n",
    "    result=result+b[i]\n",
    "print(result)"
   ]
  },
  {
   "cell_type": "code",
   "execution_count": 36,
   "metadata": {},
   "outputs": [
    {
     "name": "stdout",
     "output_type": "stream",
     "text": [
      "[3, 6, 9, 12, 15, 18]\n"
     ]
    }
   ],
   "source": [
    "# 2. Write a Python program to multiply all the items in a list. \n",
    "a=[1,2,3,4,5,6]\n",
    "i=0\n",
    "while i<len(a):\n",
    "    a[i]= a[i]*3\n",
    "    i+=1\n",
    "print(a)    "
   ]
  },
  {
   "cell_type": "code",
   "execution_count": 64,
   "metadata": {},
   "outputs": [
    {
     "name": "stdout",
     "output_type": "stream",
     "text": [
      "35\n",
      "24\n"
     ]
    }
   ],
   "source": [
    "# 3. Write a Python program to get the largest number from a list. \n",
    "a=[23,14,35,12,34,16]\n",
    "max=a[0]\n",
    "for i in range(len(a)):\n",
    "    if(a[i]>max):\n",
    "        max,a[i]=a[i],max\n",
    "print(max)\n",
    "\n",
    "#by using while loop\n",
    "b=[23,14,24,15,21]\n",
    "\n",
    "i=0\n",
    "max1=b[0]\n",
    "while i<len(b):\n",
    "    if b[i]>max1:\n",
    "        max1,b[i]=b[i],max1\n",
    "    i+=1\n",
    "print(max1)\n"
   ]
  },
  {
   "cell_type": "code",
   "execution_count": 65,
   "metadata": {},
   "outputs": [
    {
     "ename": "TypeError",
     "evalue": "'int' object is not callable",
     "output_type": "error",
     "traceback": [
      "\u001b[1;31m---------------------------------------------------------------------------\u001b[0m",
      "\u001b[1;31mTypeError\u001b[0m                                 Traceback (most recent call last)",
      "Cell \u001b[1;32mIn[65], line 2\u001b[0m\n\u001b[0;32m      1\u001b[0m c\u001b[39m=\u001b[39m[\u001b[39m1\u001b[39m,\u001b[39m2\u001b[39m,\u001b[39m3\u001b[39m,\u001b[39m4\u001b[39m,\u001b[39m45\u001b[39m]\n\u001b[1;32m----> 2\u001b[0m d\u001b[39m=\u001b[39m\u001b[39mmax\u001b[39;49m(c)\n\u001b[0;32m      3\u001b[0m \u001b[39mprint\u001b[39m(d)\n",
      "\u001b[1;31mTypeError\u001b[0m: 'int' object is not callable"
     ]
    }
   ],
   "source": [
    "x = max(\"Mike\", \"John\", \"Vicky\")\n",
    "\n",
    "print(x)\n"
   ]
  }
 ],
 "metadata": {
  "kernelspec": {
   "display_name": "Python 3",
   "language": "python",
   "name": "python3"
  },
  "language_info": {
   "codemirror_mode": {
    "name": "ipython",
    "version": 3
   },
   "file_extension": ".py",
   "mimetype": "text/x-python",
   "name": "python",
   "nbconvert_exporter": "python",
   "pygments_lexer": "ipython3",
   "version": "3.11.1"
  },
  "orig_nbformat": 4
 },
 "nbformat": 4,
 "nbformat_minor": 2
}
