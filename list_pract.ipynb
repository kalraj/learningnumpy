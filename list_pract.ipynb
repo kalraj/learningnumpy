{
 "cells": [
  {
   "cell_type": "code",
   "execution_count": 28,
   "metadata": {},
   "outputs": [
    {
     "name": "stdout",
     "output_type": "stream",
     "text": [
      "55\n",
      "55\n"
     ]
    }
   ],
   "source": [
    "# 1. Write a Python program to sum all the items in a list. Go to the editor\n",
    "a=[1,12,13,14,15]\n",
    "i=0\n",
    "sum=0\n",
    "while i<len(a):\n",
    "    sum+=a[i]\n",
    "    i+=1\n",
    "print(sum)\n",
    "\n",
    "#second method by using for loop\n",
    "b=[1,12,13,14,15]\n",
    "result=0\n",
    "for i in range(len(b)):\n",
    "    result=result+b[i]\n",
    "print(result)"
   ]
  },
  {
   "cell_type": "code",
   "execution_count": 36,
   "metadata": {},
   "outputs": [
    {
     "name": "stdout",
     "output_type": "stream",
     "text": [
      "[3, 6, 9, 12, 15, 18]\n"
     ]
    }
   ],
   "source": [
    "# 2. Write a Python program to multiply all the items in a list. \n",
    "a=[1,2,3,4,5,6]\n",
    "i=0\n",
    "while i<len(a):\n",
    "    a[i]= a[i]*3\n",
    "    i+=1\n",
    "print(a)    "
   ]
  },
  {
   "cell_type": "code",
   "execution_count": 14,
   "metadata": {},
   "outputs": [
    {
     "name": "stdout",
     "output_type": "stream",
     "text": [
      "35\n",
      "24\n"
     ]
    }
   ],
   "source": [
    "# 3. Write a Python program to get the largest number from a list. \n",
    "a=[23,14,35,12,34,16]\n",
    "max=a[0]\n",
    "for i in range(len(a)):\n",
    "    if(a[i]>max):\n",
    "        max,a[i]=a[i],max\n",
    "print(max)\n",
    "\n",
    "#by using while loop\n",
    "b=[23,14,24,15,21]\n",
    "\n",
    "i=0\n",
    "max1=b[0]\n",
    "while i<len(b):\n",
    "    if b[i]>max1:\n",
    "        max1,b[i]=b[i],max1\n",
    "    i+=1\n",
    "print(max1)\n"
   ]
  },
  {
   "cell_type": "code",
   "execution_count": 21,
   "metadata": {},
   "outputs": [
    {
     "name": "stdout",
     "output_type": "stream",
     "text": [
      "2\n",
      "-1\n"
     ]
    }
   ],
   "source": [
    "# 4. Write a Python program to get the smallest number from a list.\n",
    "a=[23,43,2,45,23]\n",
    "min=a[0]\n",
    "for i in range(len(a)):\n",
    "    if a[i]<min:\n",
    "        min,a[i]=a[i],min\n",
    "print(min)\n",
    "#while loop\n",
    "b=[22,13,24,-1,23,54]\n",
    "i=0\n",
    "small=b[i]\n",
    "while i<len(b):\n",
    "    if b[i]<small:\n",
    "        small,b[i]=b[i],small\n",
    "    i+=1\n",
    "print(small)   \n",
    " "
   ]
  },
  {
   "cell_type": "code",
   "execution_count": 26,
   "metadata": {},
   "outputs": [
    {
     "name": "stdout",
     "output_type": "stream",
     "text": [
      "3\n"
     ]
    }
   ],
   "source": [
    "#  Write a Python program to count the number of strings from a given list of strings. The string length is 2 or more and the first and last characters are the same. Go to the editor\n",
    "# Sample List : ['abc', 'xyz', 'aba', '1221']\n",
    "# Expected Result : 2\n",
    "a=['abc','xyz','aba','1221','cda','cac']\n",
    "c=0\n",
    "for i in range(len(a)):\n",
    "    if a[i][0]==a[i][-1]:\n",
    "        c=c+1\n",
    "print(c)\n",
    "    "
   ]
  },
  {
   "cell_type": "code",
   "execution_count": 2,
   "metadata": {},
   "outputs": [
    {
     "name": "stdout",
     "output_type": "stream",
     "text": [
      "[(1, 2), (4, 4), (2, 3), (2, 5), (2, 1)]\n"
     ]
    }
   ],
   "source": [
    "# 6. Write a Python program to get a list, sorted in increasing order by the last element in each tuple from a given list of non-empty tuples. Go to the editor\n",
    "# Sample List : [(2, 5), (1, 2), (4, 4), (2, 3), (2, 1)]\n",
    "# Expected Result : [(2, 1), (1, 2), (2, 3), (4, 4), (2, 5)]\n",
    "a=[(2,5),(1,2),(4,4),(2,3),(2,1)]\n",
    "b=[]\n",
    "for i in range(len(a)):\n",
    "    for j in range(1,len(a)):\n",
    "        temp=0\n",
    "        if a[i-1][-1]<a[i+1-1][-1]:\n",
    "            temp=a[i-1]\n",
    "            a[i-1]=a[i+1-1]\n",
    "            a[i+1-1]=temp\n",
    "print(a)\n",
    "\n",
    "    "
   ]
  },
  {
   "cell_type": "code",
   "execution_count": 19,
   "metadata": {},
   "outputs": [
    {
     "name": "stdout",
     "output_type": "stream",
     "text": [
      "[1, 2, 3, 4, 5, 6]\n"
     ]
    }
   ],
   "source": [
    "#  Write a Python program to remove duplicates from a list. \n",
    "a=[1,2,1,2,3,4,3,5,6,6]\n",
    "b=list(set(a))\n",
    "print(b)\n",
    "# second method\n",
    "b=[1,2,1,2,3,4,3,5,6,6]\n",
    "c=[]\n",
    "for i in b:\n",
    "    if i not in c:\n",
    "        c.append(i)\n",
    "print(c)\n",
    "#third method\n"
   ]
  },
  {
   "cell_type": "code",
   "execution_count": 24,
   "metadata": {},
   "outputs": [
    {
     "name": "stdout",
     "output_type": "stream",
     "text": [
      "[1, 2, 34, 5, 6, 7]\n",
      "[1, 2, 34, 5, 6, 7]\n",
      "[1, 2, 34, 5, 6, 7]\n"
     ]
    }
   ],
   "source": [
    "#  Write a Python program to clone or copy a list\n",
    "a=[1,2,34,5,6,7]\n",
    "b=list(a)\n",
    "print(b)\n",
    "#second method\n",
    "c=a.copy()\n",
    "print(c)\n",
    "#third method\n",
    "d=[]\n",
    "for i in range(len(a)):\n",
    "    d.append(a[i])\n",
    "print(d)"
   ]
  },
  {
   "cell_type": "code",
   "execution_count": 75,
   "metadata": {},
   "outputs": [
    {
     "name": "stdout",
     "output_type": "stream",
     "text": [
      "16 mohit90590679375\n"
     ]
    }
   ],
   "source": [
    "#  Write a Python program to find the length of  longest string and find longest string  also from the list. \n",
    "        \n",
    "b=['aba','abac123848','kgff456','mohit90590679375']\n",
    "n=len(b[0])\n",
    "c=b[i]\n",
    "for i in range(len(b)):\n",
    "     if n<len(b[i]):\n",
    "         n=len(b[i])\n",
    "         if len(b[i])==n:\n",
    "            c=b[i]\n",
    "# for i in range(len(b)):\n",
    "#  if len(b[i])==n:\n",
    "#     print(b[i])\n",
    "print(n,c)\n",
    "     \n"
   ]
  },
  {
   "cell_type": "code",
   "execution_count": 87,
   "metadata": {},
   "outputs": [
    {
     "name": "stdout",
     "output_type": "stream",
     "text": [
      "[8, 9, 1, 3]\n",
      "[64, 56, 23, 64, 56, 23]\n"
     ]
    }
   ],
   "source": [
    "#  Write a Python program to calculate the difference between the two lists. \n",
    "a=[1,2,3,4,5,6,7]\n",
    "b=[5,6,7,8,9,2,4]\n",
    "f=a+b\n",
    "c=[]\n",
    "d=[]\n",
    "c.extend(set(a)-set(b))\n",
    "d.extend(set(b)-set(a))\n",
    "d.extend(c)\n",
    "print(d)\n",
    "g=[1,23,4,56,64]\n",
    "h=[1,4,67,34]\n",
    "i=list(set(g)-set(h))\n",
    "j=list(set(i)-set(h))\n",
    "print(i+j)\n"
   ]
  },
  {
   "cell_type": "code",
   "execution_count": 88,
   "metadata": {},
   "outputs": [
    {
     "name": "stdout",
     "output_type": "stream",
     "text": [
      "kalraj\n"
     ]
    }
   ],
   "source": [
    "# Write a Python program to convert a list of characters into a string. \n",
    "a=['k','a','l','r','a','j']\n",
    "c=''.join(a)\n",
    "print(c)\n"
   ]
  },
  {
   "cell_type": "code",
   "execution_count": 90,
   "metadata": {},
   "outputs": [
    {
     "name": "stdout",
     "output_type": "stream",
     "text": [
      "2\n",
      "3\n"
     ]
    }
   ],
   "source": [
    "# Write a Python program to find the index of an item in a specified list. \n",
    "a=[1,2,3,4,5,6,7,8,9]\n",
    "c=a.index(3)\n",
    "print(c)\n",
    "n=int(input('enter the element which you want index'))\n",
    "d=a.index(n)\n",
    "print(d)\n"
   ]
  },
  {
   "cell_type": "code",
   "execution_count": 95,
   "metadata": {},
   "outputs": [
    {
     "name": "stdout",
     "output_type": "stream",
     "text": [
      "[1, 2, 3, 4, 5, 6, 78, 5, 34, 54657, 6657]\n",
      "[34, 54657, 6657, [1, 2, 3, 4, 5, 6, 78, 5]]\n",
      "[34, 54657, 6657, [1, 2, 3, 4, 5, 6, 78, 5], 1, 2, 3, 4, 5, 6, 78, 5]\n"
     ]
    }
   ],
   "source": [
    "# Write a Python program to append a list to the second list\n",
    "a=[1,2,3,4,5,6,78,5]\n",
    "d=[34,54657,6657]\n",
    "print(a+d)\n",
    "d.append(a)\n",
    "\n",
    "print(d)\n",
    "d.extend(a)\n",
    "print(d)\n"
   ]
  },
  {
   "cell_type": "code",
   "execution_count": 101,
   "metadata": {},
   "outputs": [
    {
     "name": "stdout",
     "output_type": "stream",
     "text": [
      "12\n"
     ]
    }
   ],
   "source": [
    "#  Write a Python program to find the second smallest number in a list. \n",
    "a=[12,13,31,9,10]\n",
    "small=a[0]\n",
    "second=a[0]\n",
    "temp=0\n",
    "for i in range(len(a)):\n",
    "    if(small>a[i]):\n",
    "        # temp=a[i]\n",
    "        # a[i]=small\n",
    "        # small=temp\n",
    "        small,a[i]=a[i],small\n",
    "        if second>a[i]:\n",
    "            second,a[i]=a[i],second\n",
    "            \n",
    "            \n",
    "            \n",
    "print(second)\n",
    "# first_max=max(a)\n",
    "# print(first_max)\n",
    "        "
   ]
  },
  {
   "cell_type": "code",
   "execution_count": 109,
   "metadata": {},
   "outputs": [
    {
     "name": "stdout",
     "output_type": "stream",
     "text": [
      "45\n",
      "34\n",
      "[1, 2, 3, 4, 5]\n",
      "1 2\n"
     ]
    }
   ],
   "source": [
    "# Write a Python program to find the second largest number in a list.\n",
    "a=[12,23,13,45,34]\n",
    "f_max=a[0]\n",
    "s_max=a[0]\n",
    "for i in range(len(a)):\n",
    "    if f_max<a[i]:\n",
    "        f_max,a[i]=a[i],f_max\n",
    "    if s_max<a[i]:\n",
    "        s_max,a[i]=a[i],s_max\n",
    "print(f_max)\n",
    "print(s_max)\n",
    "# second method\n",
    "b=[1,2,3,4,5]\n",
    "b.sort() \n",
    "print(b) \n",
    "print(b[0],b[1])\n",
    "print(b[-1],b[-2])\n",
    "    \n",
    "        \n",
    "    "
   ]
  },
  {
   "cell_type": "code",
   "execution_count": null,
   "metadata": {},
   "outputs": [],
   "source": []
  }
 ],
 "metadata": {
  "kernelspec": {
   "display_name": "Python 3",
   "language": "python",
   "name": "python3"
  },
  "language_info": {
   "codemirror_mode": {
    "name": "ipython",
    "version": 3
   },
   "file_extension": ".py",
   "mimetype": "text/x-python",
   "name": "python",
   "nbconvert_exporter": "python",
   "pygments_lexer": "ipython3",
   "version": "3.11.1"
  },
  "orig_nbformat": 4
 },
 "nbformat": 4,
 "nbformat_minor": 2
}
