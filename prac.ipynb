{
 "cells": [
  {
   "cell_type": "code",
   "execution_count": 2,
   "metadata": {},
   "outputs": [
    {
     "name": "stdout",
     "output_type": "stream",
     "text": [
      "hello\n"
     ]
    }
   ],
   "source": [
    "print('hello')"
   ]
  },
  {
   "cell_type": "code",
   "execution_count": 3,
   "metadata": {},
   "outputs": [
    {
     "name": "stdout",
     "output_type": "stream",
     "text": [
      "10\n"
     ]
    }
   ],
   "source": [
    "a= 10\n",
    "print(a)"
   ]
  },
  {
   "cell_type": "code",
   "execution_count": 4,
   "metadata": {},
   "outputs": [
    {
     "name": "stdout",
     "output_type": "stream",
     "text": [
      "['__add__', '__class__', '__class_getitem__', '__contains__', '__delattr__', '__delitem__', '__dir__', '__doc__', '__eq__', '__format__', '__ge__', '__getattribute__', '__getitem__', '__getstate__', '__gt__', '__hash__', '__iadd__', '__imul__', '__init__', '__init_subclass__', '__iter__', '__le__', '__len__', '__lt__', '__mul__', '__ne__', '__new__', '__reduce__', '__reduce_ex__', '__repr__', '__reversed__', '__rmul__', '__setattr__', '__setitem__', '__sizeof__', '__str__', '__subclasshook__', 'append', 'clear', 'copy', 'count', 'extend', 'index', 'insert', 'pop', 'remove', 'reverse', 'sort']\n"
     ]
    }
   ],
   "source": [
    "print(dir(list))\n",
    "\n"
   ]
  },
  {
   "cell_type": "code",
   "execution_count": null,
   "metadata": {},
   "outputs": [],
   "source": []
  },
  {
   "cell_type": "code",
   "execution_count": 12,
   "metadata": {},
   "outputs": [
    {
     "name": "stdout",
     "output_type": "stream",
     "text": [
      "2\n",
      "0\n"
     ]
    }
   ],
   "source": [
    "a=[1,2,3,4,1]\n",
    "print(a.index(3))\n",
    "\n",
    "print(a.index(1))"
   ]
  },
  {
   "cell_type": "code",
   "execution_count": null,
   "metadata": {},
   "outputs": [],
   "source": []
  },
  {
   "cell_type": "code",
   "execution_count": 38,
   "metadata": {},
   "outputs": [
    {
     "name": "stdout",
     "output_type": "stream",
     "text": [
      "5 9 12 14 24 "
     ]
    }
   ],
   "source": [
    "a=[10,2,3,4,5]\n",
    "n=len(a)\n",
    "# print(n)\n",
    "sum=0\n",
    "while((n-1)>=0):\n",
    "    n=n-1\n",
    "    sum=sum+a[n] \n",
    "    print(sum,end=' ') \n"
   ]
  },
  {
   "cell_type": "code",
   "execution_count": 41,
   "metadata": {},
   "outputs": [
    {
     "name": "stdout",
     "output_type": "stream",
     "text": [
      "1 4 9 16 24 33 "
     ]
    }
   ],
   "source": [
    "a=[1,3,5,7,8,9]\n",
    "n=len(a)\n",
    "sum=0\n",
    "for i in range(n):\n",
    "    sum=sum+a[i]\n",
    "    print(sum,end=' ')"
   ]
  },
  {
   "cell_type": "code",
   "execution_count": 43,
   "metadata": {},
   "outputs": [
    {
     "name": "stdout",
     "output_type": "stream",
     "text": [
      "[2, 4, 6, 8, 10]\n"
     ]
    }
   ],
   "source": [
    "a=[1,2,3,4,5]\n",
    "n=len(a)\n",
    "for i in range(n):\n",
    "    a[i]=a[i]*2\n",
    "print(a)"
   ]
  },
  {
   "cell_type": "code",
   "execution_count": 49,
   "metadata": {},
   "outputs": [
    {
     "name": "stdout",
     "output_type": "stream",
     "text": [
      "[2, 4, 6, 8]\n"
     ]
    }
   ],
   "source": [
    "a=[1,2,3,4]\n",
    "n=len(a)\n",
    "while((n-1)>=0):\n",
    "    n=n-1\n",
    "    a[n]=a[n]*2\n",
    "    \n",
    "print(a)"
   ]
  },
  {
   "cell_type": "code",
   "execution_count": 50,
   "metadata": {},
   "outputs": [
    {
     "name": "stdout",
     "output_type": "stream",
     "text": [
      "hello\n"
     ]
    }
   ],
   "source": [
    "n=5\n",
    "if(n<=5):\n",
    "    print('hello')\n",
    "    n=n-1"
   ]
  },
  {
   "cell_type": "code",
   "execution_count": 66,
   "metadata": {},
   "outputs": [
    {
     "name": "stdout",
     "output_type": "stream",
     "text": [
      "30\n"
     ]
    }
   ],
   "source": [
    "a=[6,16,30,10,14]\n",
    "n=len(a)\n",
    "max=a[n-1]\n",
    "while((n-1)>=0):\n",
    "    temp=0\n",
    "    if(a[n-1]>max):\n",
    "        temp=a[n-1]\n",
    "        max=temp\n",
    "    n=n-1\n",
    "print(max)"
   ]
  },
  {
   "cell_type": "code",
   "execution_count": 2,
   "metadata": {},
   "outputs": [
    {
     "name": "stdout",
     "output_type": "stream",
     "text": [
      "95\n"
     ]
    }
   ],
   "source": [
    "a=[1,56,73,25,95,76]\n",
    "# a = (1, 5, 3, 9)\n",
    "x = max(a)\n",
    "# b=tuple(a)\n",
    "# print(type(b))\n",
    "# x=max(b)\n",
    "print(x)"
   ]
  },
  {
   "cell_type": "code",
   "execution_count": 3,
   "metadata": {},
   "outputs": [
    {
     "name": "stdout",
     "output_type": "stream",
     "text": [
      "2\n"
     ]
    }
   ],
   "source": [
    "a=[45,67,34,76,87,34,2,4]\n",
    "x=min(a)\n",
    "print(x)"
   ]
  },
  {
   "cell_type": "code",
   "execution_count": 5,
   "metadata": {},
   "outputs": [
    {
     "name": "stdout",
     "output_type": "stream",
     "text": [
      "[1, 2, 3, 4, 5]\n"
     ]
    }
   ],
   "source": [
    "a=[1,2,3,4,2,3,4,5,3,4,5,3,4,5]\n",
    "# b=set(a)\n",
    "# print(b)\n",
    "print(list(set(a)))"
   ]
  },
  {
   "cell_type": "code",
   "execution_count": 22,
   "metadata": {},
   "outputs": [
    {
     "ename": "IndexError",
     "evalue": "list index out of range",
     "output_type": "error",
     "traceback": [
      "\u001b[1;31m---------------------------------------------------------------------------\u001b[0m",
      "\u001b[1;31mIndexError\u001b[0m                                Traceback (most recent call last)",
      "Cell \u001b[1;32mIn[22], line 4\u001b[0m\n\u001b[0;32m      2\u001b[0m n\u001b[39m=\u001b[39m\u001b[39mlen\u001b[39m(a)\n\u001b[0;32m      3\u001b[0m \u001b[39mfor\u001b[39;00m i \u001b[39min\u001b[39;00m \u001b[39mrange\u001b[39m(n):\n\u001b[1;32m----> 4\u001b[0m     \u001b[39mif\u001b[39;00m(a[i]\u001b[39m==\u001b[39ma[i\u001b[39m-\u001b[39m\u001b[39m1\u001b[39m]):\n\u001b[0;32m      5\u001b[0m         a\u001b[39m.\u001b[39mpop()\n",
      "\u001b[1;31mIndexError\u001b[0m: list index out of range"
     ]
    }
   ],
   "source": [
    "a=[1,2,3,4,5,3,3,4,5,6]\n",
    "n=len(a)\n",
    "for i in range(n):\n",
    "    if(a[i]==a[i-1]):\n",
    "        a.pop()"
   ]
  },
  {
   "cell_type": "code",
   "execution_count": 8,
   "metadata": {},
   "outputs": [
    {
     "name": "stdout",
     "output_type": "stream",
     "text": [
      "[1, 2, 3, 4, 5]\n",
      "[[1, 2, 3, 4, 5]]\n",
      "[1, 2, 3, 4, 5, 10]\n",
      "[1, 2, 3, 4, 5, 20]\n",
      "[1, 2, 3, 4, 5, 10]\n",
      "[1, 2, 3, 4, 5, 10, 100]\n",
      "[1, 2, 3, 4, 5, 10]\n"
     ]
    }
   ],
   "source": [
    "# Write a Python program to clone or copy a list.\n",
    "a=[1,2,3,4,5]\n",
    "b=a.copy()\n",
    "print(b)\n",
    "c=[]\n",
    "c.append(a)\n",
    "print(c)\n",
    "a.extend([10])\n",
    "b.extend([20])\n",
    "print(a)\n",
    "print(b)\n",
    "b=list(a)\n",
    "print(b)\n",
    "b.append(100)\n",
    "print(b)\n",
    "print(a)"
   ]
  },
  {
   "cell_type": "code",
   "execution_count": 14,
   "metadata": {},
   "outputs": [
    {
     "name": "stdout",
     "output_type": "stream",
     "text": [
      "['red', 'green', 'white', 'black', 'pink', 'yellow']\n",
      "hello\n",
      "hello\n"
     ]
    },
    {
     "ename": "IndexError",
     "evalue": "list index out of range",
     "output_type": "error",
     "traceback": [
      "\u001b[1;31m---------------------------------------------------------------------------\u001b[0m",
      "\u001b[1;31mIndexError\u001b[0m                                Traceback (most recent call last)",
      "Cell \u001b[1;32mIn[14], line 11\u001b[0m\n\u001b[0;32m      8\u001b[0m b\u001b[39m=\u001b[39ma[\u001b[39m-\u001b[39m\u001b[39m3\u001b[39m:\u001b[39m-\u001b[39m\u001b[39m1\u001b[39m]\n\u001b[0;32m     10\u001b[0m \u001b[39mfor\u001b[39;00m k \u001b[39min\u001b[39;00m \u001b[39mrange\u001b[39m(\u001b[39mlen\u001b[39m(b)):\n\u001b[1;32m---> 11\u001b[0m     \u001b[39mif\u001b[39;00m (a[i]\u001b[39m==\u001b[39mb[k]):\n\u001b[0;32m     12\u001b[0m         \u001b[39mprint\u001b[39m(\u001b[39m'\u001b[39m\u001b[39mhello\u001b[39m\u001b[39m'\u001b[39m)\n\u001b[0;32m     13\u001b[0m         a\u001b[39m.\u001b[39mremove(a[i])\n",
      "\u001b[1;31mIndexError\u001b[0m: list index out of range"
     ]
    }
   ],
   "source": [
    "a=['red','green','white','black','pink','yellow']\n",
    "# print(a.index('red'))\n",
    "# a.pop(-1)\n",
    "# a.remove(a[-1])\n",
    "print(a)\n",
    "n=len(a)\n",
    "for i in range(len(a)):\n",
    "    b=a[-3:-1]\n",
    "\n",
    "    for k in range(len(b)):\n",
    "        if (a[i]==b[k]):\n",
    "            print('hello')\n",
    "            a.remove(a[i])\n"
   ]
  },
  {
   "cell_type": "code",
   "execution_count": 11,
   "metadata": {},
   "outputs": [
    {
     "name": "stdout",
     "output_type": "stream",
     "text": [
      "hello\n",
      "100\n"
     ]
    }
   ],
   "source": [
    "print(a:='hello')\n",
    "print(b:=100)"
   ]
  },
  {
   "cell_type": "code",
   "execution_count": 18,
   "metadata": {},
   "outputs": [
    {
     "name": "stdout",
     "output_type": "stream",
     "text": [
      "twinkle, twinkle,little star,\n",
      "\thow i wonder what you are!\n",
      "\t\tup above the world so high,\n",
      "\t\tlike a diamond in the sky.\n",
      "twinkle twinkle,little star\n",
      "\thow i wonder what you are\n"
     ]
    }
   ],
   "source": [
    "#  Write a Python program to print the following string in a specific format\n",
    "# Sample String : \"Twinkle, twinkle, little star, How I wonder what you are! Up above the world so high, Like a diamond in the sky. Twinkle, twinkle, little star, How I wonder what you are\" Output :\n",
    "\n",
    "# Twinkle, twinkle, little star,\n",
    "# \tHow I wonder what you are! \n",
    "# \t\tUp above the world so high,   \t\t\n",
    "# \t\tLike a diamond in the sky. \n",
    "# Twinkle, twinkle, little star, \n",
    "# \t# How I wonder what you are\n",
    "a=\"twinkle, twinkle,little star,\\n\\thow i wonder what you are!\\n\\t\\tup above the world so high,\\n\\t\\tlike a diamond in the sky.\\ntwinkle twinkle,little star\\n\\thow i wonder what you are\"\n",
    "print(a)"
   ]
  },
  {
   "cell_type": "code",
   "execution_count": 27,
   "metadata": {},
   "outputs": [
    {
     "name": "stdout",
     "output_type": "stream",
     "text": [
      "3.11.1 (tags/v3.11.1:a7a450f, Dec  6 2022, 19:58:39) [MSC v.1934 64 bit (AMD64)]\n",
      "3.11.1\n",
      "('3', '11', '1')\n",
      "AMD64\n",
      "Intel64 Family 6 Model 142 Stepping 9, GenuineIntel\n"
     ]
    }
   ],
   "source": [
    "# Write a Python program to find out what version of Python you are using.\n",
    "import sys\n",
    "print(sys.version)\n",
    "\n",
    "import platform\n",
    "print(platform.python_version())\n",
    "print(platform.python_version_tuple())\n",
    "print(platform.machine())\n",
    "print(platform.processor())\n",
    "\n"
   ]
  },
  {
   "cell_type": "code",
   "execution_count": 5,
   "metadata": {},
   "outputs": [
    {
     "name": "stdout",
     "output_type": "stream",
     "text": [
      "1 3 5 7 9 45 "
     ]
    }
   ],
   "source": [
    "# Write a Python program to print the numbers of a specified list after removing even numbers from it.\n",
    "a=[1,2,3,44,5,6,7,88,9,45]\n",
    "for i in range(len(a)):\n",
    "    if(a[i]%2!=0):\n",
    "        print(a[i],end=\" \")"
   ]
  },
  {
   "cell_type": "code",
   "execution_count": 2,
   "metadata": {},
   "outputs": [
    {
     "name": "stdout",
     "output_type": "stream",
     "text": [
      "3.8028571428571434\n",
      "3.7994000000000008\n"
     ]
    }
   ],
   "source": [
    "#  Write a Python program that calculates the area of a circle based on the radius entered by the user. Go to the editor\n",
    "# Sample Output :\n",
    "# r = 1.1\n",
    "# Area = 3.8013271108436504\n",
    "r=1.1\n",
    "area=22/7*r**2\n",
    "print(area)\n",
    "print(a:=3.14*r**2)"
   ]
  },
  {
   "cell_type": "code",
   "execution_count": 1,
   "metadata": {},
   "outputs": [
    {
     "name": "stdout",
     "output_type": "stream",
     "text": [
      "koteri koteri\n",
      "koteri kal \n"
     ]
    }
   ],
   "source": [
    "first_name='kalraj'\n",
    "last_name='koteri'\n",
    "rev=last_name+\" \"+last_name\n",
    "print(rev)\n",
    "firstn=input('enter first name :')\n",
    "lastn=input('enter lname :')\n",
    "name=lastn+\" \"+firstn\n",
    "print(name)"
   ]
  },
  {
   "cell_type": "code",
   "execution_count": 14,
   "metadata": {},
   "outputs": [
    {
     "name": "stdout",
     "output_type": "stream",
     "text": [
      "['1', '2', '3', '4', '5']\n",
      "('1', '2', '3', '4', '5')\n",
      "<class 'tuple'>\n",
      "['6', '5', '6', '7']\n"
     ]
    }
   ],
   "source": [
    "b=[]\n",
    "for i in range(5):\n",
    "    a=input('enter the number')\n",
    "    b.append(a)\n",
    "print(b)\n",
    "print(tup:=tuple(b))\n",
    "print(type(tup))\n",
    "c=input('enter the number')\n",
    "list=c.split(\",\")\n",
    "print(list)\n",
    "# for i in range(5):\n",
    "#     b=[]\n",
    "#     b.append(a)\n",
    "# print(b)\n",
    "    "
   ]
  },
  {
   "cell_type": "code",
   "execution_count": 25,
   "metadata": {},
   "outputs": [
    {
     "name": "stdout",
     "output_type": "stream",
     "text": [
      "4\n",
      "['red', 'black']\n"
     ]
    }
   ],
   "source": [
    "#  Write a Python program to display the first and last colors from the following list. Go to the editor\n",
    "# color_list = [\"Red\",\"Green\",\"White\" ,\"Black\"]\n",
    "color_list=['red','green','white','black']\n",
    "b=len(color_list)\n",
    "print(b)\n",
    "del color_list[1:len(color_list)-1]\n",
    "print(color_list)\n"
   ]
  },
  {
   "cell_type": "code",
   "execution_count": 38,
   "metadata": {},
   "outputs": [
    {
     "name": "stdout",
     "output_type": "stream",
     "text": [
      "246\n",
      "246\n",
      "246\n"
     ]
    }
   ],
   "source": [
    "# Write a Python program that accepts an integer (n) and computes the value of n+nn+nnn. Go to the editor\n",
    "# Sample value of n is 5\n",
    "# Expected Result : 615\n",
    "a=input('enter the number')\n",
    "b=a\n",
    "c=a+a\n",
    "d=a+a+a\n",
    "print(int(b)+int(c)+int(d))\n",
    "a = int(input(\"Input an integer : \"))\n",
    "n1 = int( \"%s\" % a )\n",
    "n2 = int( \"%s%s\" % (a,a) )\n",
    "n3 = int( \"%s%s%s\" % (a,a,a) )\n",
    "print (n1+n2+n3)\n",
    "c=input('enter the number')\n",
    "b=c\n",
    "e=c*2\n",
    "d=c*3\n",
    "print(int(b)+int(e)+int(d))"
   ]
  },
  {
   "cell_type": "code",
   "execution_count": 41,
   "metadata": {},
   "outputs": [
    {
     "name": "stdout",
     "output_type": "stream",
     "text": [
      "1\n",
      "ja\n",
      "a\n"
     ]
    }
   ],
   "source": [
    "a='a.ja'\n",
    "print(c:=a.find('.'))\n",
    "print(a[c+1:])\n",
    "print(a[-1])"
   ]
  },
  {
   "cell_type": "code",
   "execution_count": 2,
   "metadata": {},
   "outputs": [
    {
     "data": {
      "text/plain": [
       "10"
      ]
     },
     "execution_count": 2,
     "metadata": {},
     "output_type": "execute_result"
    }
   ],
   "source": [
    "def abs_my(a,b):\n",
    "    if a<b:\n",
    "        return b-a\n",
    "    else:\n",
    "        return a-b\n",
    "abs_my(10,20)\n",
    "abs_my(30,20)\n"
   ]
  },
  {
   "cell_type": "code",
   "execution_count": 3,
   "metadata": {},
   "outputs": [
    {
     "name": "stdout",
     "output_type": "stream",
     "text": [
      "Return the absolute value of the argument.\n"
     ]
    }
   ],
   "source": [
    "print(abs.__doc__)"
   ]
  },
  {
   "cell_type": "code",
   "execution_count": 5,
   "metadata": {},
   "outputs": [
    {
     "name": "stdout",
     "output_type": "stream",
     "text": [
      "9\n"
     ]
    }
   ],
   "source": [
    "a=int(input(\"enter the first number\"))\n",
    "b=int(input(\"enter the second number\"))\n",
    "c=int(input(\"enter the third number\"))\n",
    "if (a==b and a==c and c==b):\n",
    "    print(3*(a+b+c))\n",
    "else:\n",
    "    print(a+b+c)"
   ]
  },
  {
   "cell_type": "code",
   "execution_count": 7,
   "metadata": {},
   "outputs": [
    {
     "name": "stdout",
     "output_type": "stream",
     "text": [
      "Isnot workig\n"
     ]
    }
   ],
   "source": [
    "a=input('enter the string')\n",
    "if(a.startswith('Is')):\n",
    "    print(a)\n",
    "    \n",
    "else:\n",
    "    b='Is '+a\n",
    "    print(b)"
   ]
  },
  {
   "cell_type": "code",
   "execution_count": 8,
   "metadata": {},
   "outputs": [
    {
     "name": "stdout",
     "output_type": "stream",
     "text": [
      "number is even\n"
     ]
    }
   ],
   "source": [
    "a=int(input(\"enter the number\"))\n",
    "if a%2==0:\n",
    "    print('number is even')\n",
    "else:\n",
    "    print('the number is odd')"
   ]
  },
  {
   "cell_type": "code",
   "execution_count": 16,
   "metadata": {},
   "outputs": [
    {
     "name": "stdout",
     "output_type": "stream",
     "text": [
      "3\n",
      "3\n"
     ]
    }
   ],
   "source": [
    "a=[1,2,3,4,3,4,5,4,1,3]\n",
    "# c=0\n",
    "n=int(input('enter the number you want to search'))\n",
    "c=0\n",
    "for i in range(len(a)):\n",
    "    if a[i]==n:\n",
    "        c=c+1\n",
    "        \n",
    "print(c)\n",
    "print(a.count(n))\n"
   ]
  },
  {
   "cell_type": "code",
   "execution_count": 30,
   "metadata": {},
   "outputs": [
    {
     "data": {
      "text/plain": [
       "False"
      ]
     },
     "execution_count": 30,
     "metadata": {},
     "output_type": "execute_result"
    }
   ],
   "source": [
    "def find_occrrance(b,n):\n",
    "    c=0\n",
    "    for i in range(len(a)):\n",
    "       \n",
    "       if a[i]==n:\n",
    "         c=c+1\n",
    "    return c\n",
    "find_occrrance([1,2,3,3,4,5,6,1],1)\n",
    "a=[1,2,3,1,1,1,3]\n",
    "find_occrrance(a,1)\n",
    "def fun(a):\n",
    "    n=int(input('enter the number'))\n",
    "    if n in a:\n",
    "      return True\n",
    "    else:\n",
    "        return False\n",
    "fun(a)\n",
    "    "
   ]
  },
  {
   "cell_type": "code",
   "execution_count": 36,
   "metadata": {},
   "outputs": [
    {
     "name": "stdout",
     "output_type": "stream",
     "text": [
      "2 4 6 8 10 12 13\n"
     ]
    }
   ],
   "source": [
    "\n",
    "a=[1,2,3,4,5,6,7,8,9,10,11,12,13,14]\n",
    "for i in range(len(a)):\n",
    "    if(a[i]==13):\n",
    "        print(a[i])\n",
    "        break;\n",
    "    elif(a[i]%2==0):\n",
    "     print(a[i],end=' ')\n"
   ]
  },
  {
   "cell_type": "code",
   "execution_count": 27,
   "metadata": {},
   "outputs": [
    {
     "name": "stdout",
     "output_type": "stream",
     "text": [
      "4\n"
     ]
    }
   ],
   "source": [
    "# Write a Python program to count the number of strings from a given list of strings. The string length is 2 or more and the first and last characters are the same. Go to the editor\n",
    "# Sample List : ['abc', 'xyz', 'aba', '1221']\n",
    "# Expected Result : 2\n",
    "a=['abc','aba','tot','xyz','aba','1221']\n",
    "b=0\n",
    "for i in range(len(a)):\n",
    "    # for j in range(len(a[i])):\n",
    "        # print(a[i][j],end=' ')\n",
    "        # print(a[i][0])\n",
    "        # print(a[i][-1])\n",
    "        # print(len(a[i][j]))\n",
    "        if(len(a[i])>=2 and a[i][0]==a[i][-1] ):\n",
    "            # count=count+1\n",
    "            # print(count)\n",
    "            # print(a[i][j])\n",
    "            b=b+1\n",
    "print(b)"
   ]
  },
  {
   "cell_type": "code",
   "execution_count": 20,
   "metadata": {},
   "outputs": [
    {
     "name": "stdout",
     "output_type": "stream",
     "text": [
      "<class 'list'>\n",
      "5 2 4 3 5 2 4 5 2 5 [(2, 5), (1, 2), (4, 4), (2, 3), (2, 1)]\n",
      "[(2, 5), (4, 4), (2, 3), (1, 2), (2, 1)]\n"
     ]
    }
   ],
   "source": [
    "# Write a Python program to get a list, sorted in increasing order by the last element in each tuple from a given list of non-empty tuples. Go to the editor\n",
    "# Sample List : [(2, 5), (1, 2), (4, 4), (2, 3), (2, 1)]\n",
    "# Expected Result : [(2, 1), (1, 2), (2, 3), (4, 4), (2, 5)]\n",
    "a=[(2, 5), (1, 2), (4, 4), (2, 3), (2, 1)]\n",
    "print(type(list(a[1])))\n",
    "for i in range(0,len(a)):\n",
    "    for j in range(0,len(a)-i-1):\n",
    "        # if(a[i][j+1]>a[])\n",
    "        # print(a[i][j])\n",
    "        # if(a[j][-1]>a[j+1][-1]):\n",
    "        #     temp=a[j]\n",
    "        #     a[j]=a[j+1]\n",
    "        #     a[j+1]=temp\n",
    "        print(a[j][-1],end=' ')\n",
    "print(a)\n",
    "a.sort(key=lambda x:x[-1],reverse=True)\n",
    "print(a)\n",
    "    "
   ]
  },
  {
   "cell_type": "code",
   "execution_count": 39,
   "metadata": {},
   "outputs": [
    {
     "name": "stdout",
     "output_type": "stream",
     "text": [
      "[1, 2, 3, 4, 5, 23, 24]\n",
      "[1, 2, 3, 4, 5, 23, 24]\n",
      "[1, 2, 3, 4, 5, 23, 24]\n",
      "[1, 2, 6, 5, 3, 7, 8]\n"
     ]
    }
   ],
   "source": [
    "# Write a Python program to remove duplicates from a list.\n",
    "a=[1,2,3,4,5,23,24,5,2,5,1,2,3]\n",
    "b=set(a)\n",
    "print(list(b))\n",
    "c=[]\n",
    "for i in a:\n",
    "    if i not in c:\n",
    "        c.append(i)\n",
    "print(c)\n",
    "\n",
    "mylist = list(dict.fromkeys(a))\n",
    "print(mylist)    \n",
    "from collections import defaultdict\n",
    " \n",
    " \n",
    "def default_val():\n",
    "    return 0\n",
    " \n",
    " \n",
    "# dict : maintain count of each element. with default value of key is 0\n",
    "mydict = defaultdict(default_val)\n",
    " \n",
    "# LIST\n",
    "l = [1, 2, 3, 2, 6, 3, 5, 3, 7, 8]\n",
    " \n",
    "for i in l:\n",
    "    # if the element already present in the array, remove the element.\n",
    "    if mydict[i] == 1:\n",
    "        l.remove(i)\n",
    "    # If the elements appears first time keep it count as 1\n",
    "    else:\n",
    "        mydict[i] = 1\n",
    " \n",
    "# printing the final array\n",
    "print(l)   "
   ]
  },
  {
   "cell_type": "code",
   "execution_count": 40,
   "metadata": {},
   "outputs": [
    {
     "name": "stdout",
     "output_type": "stream",
     "text": [
      "[2, 4, 10, 20, 5]\n"
     ]
    }
   ],
   "source": [
    "# Python code to remove duplicate elements\n",
    "from collections import Counter\n",
    "# Driver Code\n",
    "duplicate = [2, 4, 10, 20, 5, 2, 20, 4]\n",
    "unique = Counter(duplicate)\n",
    "print(list(unique.keys()))\n"
   ]
  },
  {
   "cell_type": "code",
   "execution_count": 41,
   "metadata": {},
   "outputs": [
    {
     "name": "stdout",
     "output_type": "stream",
     "text": [
      "[2, 4, 10, 20, 5]\n"
     ]
    }
   ],
   "source": [
    "import operator as op\n",
    "# Python code to remove duplicate elements\n",
    " \n",
    " \n",
    "def Remove(duplicate):\n",
    "    final_list = []\n",
    "    for num in duplicate:\n",
    "        if op.countOf(final_list, num) == 0:\n",
    "            final_list.append(num)\n",
    "    return final_list\n",
    " \n",
    " \n",
    "# Driver Code\n",
    "duplicate = [2, 4, 10, 20, 5, 2, 20, 4]\n",
    "print(Remove(duplicate))\n"
   ]
  },
  {
   "cell_type": "code",
   "execution_count": 45,
   "metadata": {},
   "outputs": [
    {
     "name": "stdout",
     "output_type": "stream",
     "text": [
      "not empty\n"
     ]
    }
   ],
   "source": [
    "#  Write a Python program to check if a list is empty or not\n",
    "a=[1,2,3]\n",
    "if(len(a)==0):\n",
    "    print('is empty')\n",
    "else:\n",
    "    print('not empty')\n",
    "if  not a:\n",
    "    print('is empty')"
   ]
  },
  {
   "cell_type": "code",
   "execution_count": 39,
   "metadata": {},
   "outputs": [
    {
     "name": "stdout",
     "output_type": "stream",
     "text": [
      "[]\n",
      "[]\n",
      "['junction']\n",
      "['pankaj']\n",
      "['hello', 'world', 'kalraj', 'koteri']\n"
     ]
    }
   ],
   "source": [
    "#  Write a Python program to find the list of words that are longer than n from a given list of words. \n",
    "a=['kal','pure','junction','pankaj']\n",
    "b=len(a)\n",
    "for i in range(b):\n",
    "    c=[]\n",
    "    if(len(a[i])>b):\n",
    "        c.append(a[i])\n",
    "    print(c)\n",
    "a='hello world my name is kalraj koteri'\n",
    "b=[]\n",
    "txt=a.split(\" \")\n",
    "\n",
    "for i in txt:\n",
    "    if(len(i)>4):\n",
    "        b.append(i)\n",
    "print(b)"
   ]
  },
  {
   "cell_type": "code",
   "execution_count": 58,
   "metadata": {},
   "outputs": [
    {
     "name": "stdout",
     "output_type": "stream",
     "text": [
      "not common\n",
      "False\n"
     ]
    }
   ],
   "source": [
    "# Write a Python function that takes two lists and returns True if they have at least one common member.\n",
    "a=[1,2,3,4,5,67,2]\n",
    "b=[7,12,23,45]\n",
    "\n",
    "c=set(a).intersection(set(b))\n",
    "if(len(c)>0):\n",
    "    print(True)\n",
    "else:\n",
    "    print('not common')\n",
    "result=False\n",
    "for x in a:\n",
    "    for y in b:\n",
    "        if x==y:\n",
    "            result=True\n",
    "        else:\n",
    "            result=False\n",
    "# print(result)\n",
    "if(set(a) & set(b)):\n",
    "    print(True)\n",
    "else:\n",
    "    print(False)"
   ]
  },
  {
   "cell_type": "code",
   "execution_count": 2,
   "metadata": {},
   "outputs": [
    {
     "name": "stdout",
     "output_type": "stream",
     "text": [
      "True\n",
      "True\n",
      "True\n"
     ]
    }
   ],
   "source": [
    "import operator as op\n",
    "a=[1,2,3,4,5,6,1]\n",
    "# op.indexOf(a,3)\n",
    "b=[1,2]\n",
    "op.countOf(a,2)\n",
    "b=[1,5,6,7,8]\n",
    "for i in range(len(a)):\n",
    "    if op.countOf(b,i):\n",
    "        print(True)\n",
    "        "
   ]
  },
  {
   "cell_type": "code",
   "execution_count": 8,
   "metadata": {},
   "outputs": [
    {
     "name": "stdout",
     "output_type": "stream",
     "text": [
      "[1, 3, 5, 7, 9]\n",
      "0\n",
      "1\n",
      "2\n",
      "3\n",
      "4\n",
      "5\n",
      "6\n",
      "7\n",
      "[1, 3, 5, 7, 9]\n"
     ]
    }
   ],
   "source": [
    "# Write a Python program to print the numbers of a specified list after removing even numbers from it\n",
    "a=[1,2,3,4,5,6,7,8,9]\n",
    "n=len(a)\n",
    "for i in a:\n",
    "    if i%2==0:\n",
    "        a.remove(i)\n",
    "print(a)\n",
    "for i in range(0,n-1):\n",
    "    \n",
    "    if i%2==0:\n",
    "        print(i)\n",
    "    else:\n",
    "        print(i)\n",
    "print(a)\n",
    "\n",
    "    "
   ]
  },
  {
   "cell_type": "code",
   "execution_count": 16,
   "metadata": {},
   "outputs": [
    {
     "name": "stdout",
     "output_type": "stream",
     "text": [
      "[1, 4, 9, 16, 25]\n",
      "[676, 729, 784, 841, 900]\n"
     ]
    }
   ],
   "source": [
    "# Write a Python program to generate and print a list of the first and last 5 elements where the values are square numbers between 1 and 30 (both included).Write a Python program to generate and print a list of the first and last 5 elements where the values are square numbers between 1 and 30 (both included).\n",
    "l=[]\n",
    "for i in range(1,31):\n",
    "    l.append(i**2)\n",
    "print(l[:5])\n",
    "print(l[-5:])\n",
    "\n",
    "\n",
    "        \n",
    "    \n"
   ]
  },
  {
   "cell_type": "code",
   "execution_count": 38,
   "metadata": {},
   "outputs": [
    {
     "name": "stdout",
     "output_type": "stream",
     "text": [
      "0 olleh n i\n",
      "1 olleh k j\n",
      "2 olleh m t\n",
      "3 olleh r l\n"
     ]
    }
   ],
   "source": [
    "a=['niki','kalraj','mohit','rahul']\n",
    "c=\"hello\"\n",
    "for i in range(len(a)):\n",
    "    for j in range(len(a[i])):\n",
    "        b=a[i][0]+\" \"+a[i][-1]\n",
    "    print(i,c[::-1],b)"
   ]
  },
  {
   "cell_type": "code",
   "execution_count": 9,
   "metadata": {},
   "outputs": [
    {
     "name": "stdout",
     "output_type": "stream",
     "text": [
      "{1, 2, 4}\n",
      "[1, 2, 3, 4, 5]\n"
     ]
    }
   ],
   "source": [
    "a=[1,2,3,4,5]\n",
    "b=[6,3,5,7,8]\n",
    "c=set(a).difference(set(b))\n",
    "print(c)\n",
    "if a not in b:\n",
    "    print(a)"
   ]
  },
  {
   "cell_type": "code",
   "execution_count": 52,
   "metadata": {},
   "outputs": [
    {
     "name": "stdout",
     "output_type": "stream",
     "text": [
      "[2, 4, 9]\n",
      "[10, 15, 20, 30]\n"
     ]
    }
   ],
   "source": [
    "a=[1,2,3,4,5,7,9]\n",
    "b=[5,3,6,7,8,1]\n",
    "temp=[]\n",
    "for i in a:\n",
    "    if i not in b:\n",
    "        temp.append(i)\n",
    "print(temp)\n",
    "li1 = [10, 15, 20, 25, 30, 35, 40]\n",
    "li2 = [25, 40, 35]\n",
    " \n",
    "temp3 = []\n",
    "for element in li1:\n",
    "    if element not in li2:\n",
    "        temp3.append(element)\n",
    " \n",
    "print(temp3)"
   ]
  },
  {
   "cell_type": "code",
   "execution_count": 63,
   "metadata": {},
   "outputs": [
    {
     "name": "stdout",
     "output_type": "stream",
     "text": [
      "['python']\n"
     ]
    }
   ],
   "source": [
    "a=['p','y','t','h','o','n']\n",
    "b=''.join(a)\n",
    "print(b)"
   ]
  },
  {
   "cell_type": "code",
   "execution_count": 67,
   "metadata": {},
   "outputs": [
    {
     "name": "stdout",
     "output_type": "stream",
     "text": [
      "1\n"
     ]
    },
    {
     "data": {
      "text/plain": [
       "2"
      ]
     },
     "execution_count": 67,
     "metadata": {},
     "output_type": "execute_result"
    }
   ],
   "source": [
    "# Write a Python program to find the index of an item in a specified list\n",
    "a=[12,13,14,15,25]\n",
    "n=int(input('enter the number'))\n",
    "for i in range(len(a)):\n",
    "    if a[i]==n:\n",
    "        print(i)\n",
    "n=int(input('enter the number'))\n",
    "\n",
    "a.index(n)"
   ]
  },
  {
   "cell_type": "code",
   "execution_count": 74,
   "metadata": {},
   "outputs": [
    {
     "name": "stdout",
     "output_type": "stream",
     "text": [
      "[1, 2, 3, 4, 5]\n",
      "[1, 2, 3, 4, 5, 10] 2039461096192\n",
      "[1, 2, 3, 4, 5] 2039460745280\n"
     ]
    }
   ],
   "source": [
    "#shallow copy\n",
    "import copy\n",
    "a=[1,2,3,4,5]\n",
    "b=copy.copy(a)\n",
    "print(b)\n",
    "b.append(10)\n",
    "print(b,id(b))\n",
    "print(a,id(a))"
   ]
  },
  {
   "cell_type": "code",
   "execution_count": 77,
   "metadata": {},
   "outputs": [
    {
     "name": "stdout",
     "output_type": "stream",
     "text": [
      "[1, 21, 31, 44, 24, [1, 2, 3, 4, 5, 6]]\n",
      "[1, 21, 31, 44, 24, [1, 2, 3, 4, 5, 6], 1, 2, 3, 4, 5, 6]\n",
      "[1, 21, 31, 44, 24, [1, 2, 3, 4, 5, 6], 1, 2, 3, 4, 5, 6]\n"
     ]
    }
   ],
   "source": [
    "# . Write a Python program to append a list to the second list\n",
    "a=[1,2,3,4,5,6]\n",
    "b=[1,21,31,44,24]\n",
    "b.append(a)\n",
    "print(b)\n",
    "b.extend(a)\n",
    "print(b)\n",
    "a+b\n",
    "print(b)"
   ]
  },
  {
   "cell_type": "code",
   "execution_count": 11,
   "metadata": {},
   "outputs": [
    {
     "name": "stdout",
     "output_type": "stream",
     "text": [
      "['1', '2', '3', '4', '5']\n",
      "<class 'list'>\n",
      "('1', '2', '3', '4', '5')\n"
     ]
    }
   ],
   "source": [
    "\n",
    "    \n",
    "a=input('enter the number ')\n",
    "b=a.split(',')\n",
    "print(b)\n",
    "print(type(b))\n",
    "c=tuple(b)\n",
    "print(c)\n"
   ]
  },
  {
   "cell_type": "code",
   "execution_count": 14,
   "metadata": {},
   "outputs": [
    {
     "name": "stdout",
     "output_type": "stream",
     "text": [
      "tx\n"
     ]
    }
   ],
   "source": [
    "a='abc.tx'\n",
    "c=a.split('.')\n",
    "print(c[-1])"
   ]
  },
  {
   "cell_type": "code",
   "execution_count": 15,
   "metadata": {},
   "outputs": [
    {
     "name": "stdout",
     "output_type": "stream",
     "text": [
      "rad\n",
      "orange\n"
     ]
    }
   ],
   "source": [
    "col=['rad','green','orange']\n",
    "print(col[0])\n",
    "print(col[-1])"
   ]
  },
  {
   "cell_type": "code",
   "execution_count": 40,
   "metadata": {},
   "outputs": [
    {
     "name": "stdout",
     "output_type": "stream",
     "text": [
      "txt\n"
     ]
    }
   ],
   "source": [
    "a=11,12,2014\n",
    "# print(a.replace(',','/'))\n",
    "# b=12,12,2014\n",
    "# for i in range(len(a)):\n",
    "#     if a[i]==',':\n",
    "#         print('?')\n",
    "# print('%i. %i. %i.'%b)\n",
    "if ',' in a:\n",
    "    print('?')\n",
    "a='java.txt'\n",
    "if '.' in a:\n",
    " b=a.index('.')\n",
    " print(a[b+1:])\n"
   ]
  },
  {
   "cell_type": "code",
   "execution_count": 63,
   "metadata": {},
   "outputs": [
    {
     "name": "stdout",
     "output_type": "stream",
     "text": [
      "55\n",
      "555\n",
      "610\n"
     ]
    }
   ],
   "source": [
    "a=5\n",
    "b = a\n",
    "c = int('%d%d'%(a,a))\n",
    "d = int('%d%d%d'%(a,a,a))\n",
    "print(c)\n",
    "print(d)\n",
    "print(c+d)\n",
    "\n"
   ]
  },
  {
   "cell_type": "code",
   "execution_count": 68,
   "metadata": {},
   "outputs": [
    {
     "name": "stdout",
     "output_type": "stream",
     "text": [
      "36\n"
     ]
    }
   ],
   "source": [
    "a=int(input('enter the number '))\n",
    "b=int(input('enter the second number'))\n",
    "d=abs(a-b)\n",
    "if d>17:\n",
    "    print(2*d)"
   ]
  },
  {
   "cell_type": "code",
   "execution_count": 71,
   "metadata": {},
   "outputs": [
    {
     "name": "stdout",
     "output_type": "stream",
     "text": [
      "6\n"
     ]
    }
   ],
   "source": [
    "a=int(input('enter first number'))\n",
    "b=int(input('enter second number'))\n",
    "c=int(input('enter third number'))\n",
    "sum =0\n",
    "if a==b==c:\n",
    "    sum =3*(a+b+c)\n",
    "    print(sum)\n",
    "    \n",
    "else:\n",
    "    sum=a+b+c\n",
    "    print(sum)\n",
    "    "
   ]
  },
  {
   "cell_type": "code",
   "execution_count": 78,
   "metadata": {},
   "outputs": [
    {
     "name": "stdout",
     "output_type": "stream",
     "text": [
      "5 5\n",
      "[5, 4, 5, 4]\n"
     ]
    }
   ],
   "source": [
    "a=[5,4]\n",
    "print('%d %d'%(5,5))\n",
    "print(a*2)"
   ]
  },
  {
   "cell_type": "code",
   "execution_count": 79,
   "metadata": {},
   "outputs": [
    {
     "name": "stdout",
     "output_type": "stream",
     "text": [
      "the number is odd\n"
     ]
    }
   ],
   "source": [
    "a=int(input('enter the first number'))\n",
    "if a%2==0:\n",
    "    print('the number is even')\n",
    "else:\n",
    "    print('the number is odd')"
   ]
  },
  {
   "cell_type": "code",
   "execution_count": 88,
   "metadata": {},
   "outputs": [
    {
     "name": "stdout",
     "output_type": "stream",
     "text": [
      "not vowels\n",
      "not vowels\n"
     ]
    }
   ],
   "source": [
    "b=input('enter the letter')\n",
    "if b=='a' or b=='e' or b=='i' or b=='o' or b=='u':\n",
    "    print('the letter is vowel')\n",
    "else:\n",
    "    print('not vowels')\n",
    "re='aeiou'\n",
    "if b in re:\n",
    "    print('vowels')\n",
    "else:\n",
    "    print('not vowels')"
   ]
  },
  {
   "cell_type": "code",
   "execution_count": 6,
   "metadata": {},
   "outputs": [
    {
     "name": "stdout",
     "output_type": "stream",
     "text": [
      "kakakakaka\n"
     ]
    }
   ],
   "source": [
    "a='ka'\n",
    "if len(a)>2:\n",
    "   b=a[0:2]\n",
    "   print(b)\n",
    "else:\n",
    "    c=a\n",
    "    print(c*5)"
   ]
  },
  {
   "cell_type": "code",
   "execution_count": 8,
   "metadata": {},
   "outputs": [
    {
     "name": "stdout",
     "output_type": "stream",
     "text": [
      "true\n"
     ]
    }
   ],
   "source": [
    "a=[1,2,3,4]\n",
    "if 2 in a:\n",
    "    print('true')\n",
    "else:\n",
    "    print('false')"
   ]
  },
  {
   "cell_type": "code",
   "execution_count": 13,
   "metadata": {},
   "outputs": [
    {
     "name": "stdout",
     "output_type": "stream",
     "text": [
      "386 462 418 "
     ]
    }
   ],
   "source": [
    "a=[386,462,47,418,907,237,344,399,67,104,237,67,104,58,512]\n",
    "for i in range(len(a)):\n",
    "    if a[i]==237:\n",
    "        break\n",
    "    else:\n",
    "        if a[i]%2==0:\n",
    "         print(a[i],end=' ')"
   ]
  },
  {
   "cell_type": "code",
   "execution_count": 20,
   "metadata": {},
   "outputs": [
    {
     "name": "stdout",
     "output_type": "stream",
     "text": [
      "white\n",
      "black\n",
      "{'black', 'white'}\n",
      "{'green'}\n"
     ]
    }
   ],
   "source": [
    "a=['white','black','red']\n",
    "b=['red','green']\n",
    "for i in range(len(a)):\n",
    "    \n",
    " if a[i] not in b:\n",
    "    print(a[i])\n",
    "c=set(a).difference(set(b))\n",
    "d=set(b).difference(set(a))\n",
    "print(c)\n",
    "print(d)"
   ]
  },
  {
   "cell_type": "code",
   "execution_count": 21,
   "metadata": {},
   "outputs": [
    {
     "name": "stdout",
     "output_type": "stream",
     "text": [
      "90.0\n"
     ]
    }
   ],
   "source": [
    "base=12\n",
    "height=15\n",
    "area=1/2*base*height\n",
    "print(area)"
   ]
  },
  {
   "cell_type": "code",
   "execution_count": 27,
   "metadata": {},
   "outputs": [
    {
     "name": "stdout",
     "output_type": "stream",
     "text": [
      "0\n"
     ]
    }
   ],
   "source": [
    "a,b,c=5,50,5\n",
    "sum=0\n",
    "if a==b or b==c or a==c:\n",
    "    print(sum)\n",
    "else:\n",
    "    sum=a+b+c\n",
    "    print(sum)"
   ]
  },
  {
   "cell_type": "code",
   "execution_count": 29,
   "metadata": {},
   "outputs": [
    {
     "name": "stdout",
     "output_type": "stream",
     "text": [
      "20\n"
     ]
    }
   ],
   "source": [
    "a=10\n",
    "b=5\n",
    "sum=a+b\n",
    "if sum in range(15,20):\n",
    "    print(sum:=20)\n",
    "else:\n",
    "    print(sum)"
   ]
  },
  {
   "cell_type": "code",
   "execution_count": 33,
   "metadata": {},
   "outputs": [
    {
     "name": "stdout",
     "output_type": "stream",
     "text": [
      "<class 'int'>\n",
      "11\n"
     ]
    }
   ],
   "source": [
    "a=5\n",
    "b=6\n",
    "print(type(a))\n",
    "add=0\n",
    "if type(a)==int and type(b)==int:\n",
    "    add=a+b\n",
    "    print(add)"
   ]
  },
  {
   "cell_type": "code",
   "execution_count": 1,
   "metadata": {},
   "outputs": [
    {
     "name": "stdout",
     "output_type": "stream",
     "text": [
      "49\n"
     ]
    }
   ],
   "source": [
    "x=4\n",
    "y=3\n",
    "a=(x+y)**2\n",
    "print(a)"
   ]
  },
  {
   "cell_type": "code",
   "execution_count": 2,
   "metadata": {},
   "outputs": [
    {
     "name": "stdout",
     "output_type": "stream",
     "text": [
      "2450.0\n"
     ]
    }
   ],
   "source": [
    "amt=10000\n",
    "years=7\n",
    "interest=3.5\n",
    "a=(amt*years*interest)/100\n",
    "print(a)"
   ]
  },
  {
   "cell_type": "code",
   "execution_count": 7,
   "metadata": {},
   "outputs": [
    {
     "name": "stdout",
     "output_type": "stream",
     "text": [
      "6.324555320336759\n"
     ]
    }
   ],
   "source": [
    "import math\n",
    "x1,x2=4,6\n",
    "y1,y2=0,6\n",
    "d=(x2-x1)**2+(y2-y1)**2\n",
    "print(d)\n",
    "print(math.sqrt(d))"
   ]
  }
 ],
 "metadata": {
  "kernelspec": {
   "display_name": "Python 3",
   "language": "python",
   "name": "python3"
  },
  "language_info": {
   "codemirror_mode": {
    "name": "ipython",
    "version": 3
   },
   "file_extension": ".py",
   "mimetype": "text/x-python",
   "name": "python",
   "nbconvert_exporter": "python",
   "pygments_lexer": "ipython3",
   "version": "3.11.1"
  },
  "orig_nbformat": 4,
  "vscode": {
   "interpreter": {
    "hash": "5238573367df39f7286bb46f9ff5f08f63a01a80960060ce41e3c79b190280fa"
   }
  }
 },
 "nbformat": 4,
 "nbformat_minor": 2
}
