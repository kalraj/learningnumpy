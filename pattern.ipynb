{
 "cells": [
  {
   "cell_type": "code",
   "execution_count": 3,
   "metadata": {},
   "outputs": [
    {
     "name": "stdout",
     "output_type": "stream",
     "text": [
      "\n",
      "*\n",
      "**\n",
      "***\n",
      "****\n"
     ]
    }
   ],
   "source": [
    "for i in range(5):\n",
    "    for j in range(i):\n",
    "        print('*',end='')\n",
    "    print()"
   ]
  },
  {
   "cell_type": "code",
   "execution_count": 6,
   "metadata": {},
   "outputs": [
    {
     "name": "stdout",
     "output_type": "stream",
     "text": [
      "00000\n",
      "1111\n",
      "222\n",
      "33\n",
      "4\n"
     ]
    }
   ],
   "source": [
    "for i in range(5):\n",
    "    for j in range(5-i):\n",
    "\n",
    "          print(i,end='')\n",
    "        #   i+=1\n",
    "    print()"
   ]
  },
  {
   "cell_type": "code",
   "execution_count": 9,
   "metadata": {},
   "outputs": [
    {
     "name": "stdout",
     "output_type": "stream",
     "text": [
      "\n",
      "1\n",
      "23\n",
      "456\n",
      "78910\n"
     ]
    }
   ],
   "source": [
    "a=1\n",
    "for i in range(5):\n",
    "    for k in range(i):\n",
    "        print(a,end='')\n",
    "        a+=1\n",
    "    print()"
   ]
  },
  {
   "cell_type": "code",
   "execution_count": 30,
   "metadata": {},
   "outputs": [
    {
     "name": "stdout",
     "output_type": "stream",
     "text": [
      "     \n",
      "    *\n",
      "   **\n",
      "  ***\n",
      " ****\n"
     ]
    }
   ],
   "source": [
    "for i in range(5):\n",
    "    for k in range(5-i):\n",
    "        print(' ',end='')\n",
    "    for j in range(i):\n",
    "        print('*',end='')\n",
    "    print()"
   ]
  },
  {
   "cell_type": "code",
   "execution_count": 62,
   "metadata": {},
   "outputs": [
    {
     "name": "stdout",
     "output_type": "stream",
     "text": [
      "**********\n",
      "****  ****\n",
      "***    ***\n",
      "**      **\n",
      "*        *\n",
      "*****\n",
      " ****\n",
      "  ***\n",
      "   **\n",
      "    *\n"
     ]
    }
   ],
   "source": [
    "for i in range(5):\n",
    "    for k in range(5-i):\n",
    "        print('*',end='')\n",
    "    for l in range(i):\n",
    "        print(' ',end=' ')\n",
    "    for m in range(5-i):\n",
    "        print('*',end='')\n",
    "        \n",
    "    print()\n",
    "for l in range(5):\n",
    "    for m in range(l):\n",
    "        print(' ',end='')\n",
    "    for n in range(5-l):\n",
    "     print(\"*\",end='')\n",
    "    print()   \n",
    "    "
   ]
  },
  {
   "cell_type": "code",
   "execution_count": 77,
   "metadata": {},
   "outputs": [
    {
     "name": "stdout",
     "output_type": "stream",
     "text": [
      "     \n",
      "    * \n",
      "   * * \n",
      "  * * * \n",
      " * * * * \n",
      "* * * * * \n",
      " * * * * \n",
      "  * * * \n",
      "   * * \n",
      "    * \n"
     ]
    }
   ],
   "source": [
    "for i in  range(5):\n",
    "    for k in range(5-i):\n",
    "        print(end=\" \")\n",
    "    for l in range(i):\n",
    "        print(\"* \",end='')\n",
    "    print()    \n",
    "for i in  range(5):\n",
    "    for k in range(i):\n",
    "        print(end=\" \")\n",
    "    for l in range(5-i):\n",
    "        print(\"* \",end='')\n",
    "    print()    \n",
    "        \n",
    "    \n",
    "         "
   ]
  },
  {
   "cell_type": "code",
   "execution_count": 102,
   "metadata": {},
   "outputs": [
    {
     "name": "stdout",
     "output_type": "stream",
     "text": [
      "     \n",
      "    * \n",
      "   * * \n",
      "  * * * \n",
      " * * * * \n",
      "* * * * * \n",
      " * * * * \n",
      "  * * * \n",
      "   * * \n",
      "    * \n"
     ]
    }
   ],
   "source": [
    "for i in  range(5):\n",
    "    for k in range(5-i):\n",
    "        print(end=\" \")\n",
    "    for l in range(i):\n",
    "        # if i==3 and l==1 :\n",
    "        #     print(end=\" \")\n",
    "        # else:    \n",
    "         print(\"* \",end='')\n",
    "    print()    \n",
    "for i in  range(5):\n",
    "    for k in range(i):\n",
    "        print(end=\" \")\n",
    "    for l in range(5-i):\n",
    "        print(\"* \",end='')\n",
    "    print()    \n",
    "        \n",
    "    \n",
    "         "
   ]
  },
  {
   "cell_type": "code",
   "execution_count": 155,
   "metadata": {},
   "outputs": [
    {
     "name": "stdout",
     "output_type": "stream",
     "text": [
      "     * *  \n",
      "    *   *  \n",
      "   *      *  \n",
      "  *         *  \n",
      " *            *  \n",
      " *            *\n",
      "   *           *\n",
      "     *          *\n",
      "       *         *\n",
      "         *        *\n",
      "          **\n",
      "         * *\n",
      "        *  *\n",
      "       *   *\n",
      "      *    *\n",
      "*\n",
      " *\n",
      "  *\n",
      "   *\n",
      "    *\n"
     ]
    }
   ],
   "source": [
    "for i in range(5):\n",
    "    for k in range(5-i):\n",
    "        print(end=' ')\n",
    "    for l in range(1):\n",
    "        print('*',end='')\n",
    "    \n",
    "    for k in range(3*i-1):\n",
    "        print(end=' ')\n",
    "    for l in range(1):\n",
    "        print(' * ',end=' ')\n",
    "    print()\n",
    "for i in range(5):\n",
    "    \n",
    "    for k in range(2*i):\n",
    "        print(end=' ')\n",
    "    for l in range(1):\n",
    "        print(' * ',end=' ')\n",
    "    for k in range(10-i):\n",
    "        print(end=' ')\n",
    "    for j in range(1):\n",
    "        print('*',end='')\n",
    "    print()\n",
    "for i in range(5):\n",
    "    for k in range(10-i):\n",
    "        print(end=\" \")\n",
    "    for j in range(1):\n",
    "        print(\"*\",end=\"\")\n",
    "    for l in range(i):\n",
    "        print(end=\" \")\n",
    "    for p in range(1):\n",
    "        print(\"*\",end='')\n",
    "    print()\n",
    "for i in range(5):\n",
    "    for l in range(i):\n",
    "        print(end=\" \")\n",
    "    for p in range(1):\n",
    "        print(\"*\",end='')\n",
    "    print()\n",
    "    "
   ]
  },
  {
   "cell_type": "code",
   "execution_count": 162,
   "metadata": {},
   "outputs": [
    {
     "name": "stdout",
     "output_type": "stream",
     "text": [
      "     \n",
      "    *\n",
      "   **\n",
      "  ***\n",
      " ****\n",
      "*****\n",
      " ****\n",
      "  ***\n",
      "   **\n",
      "    *\n"
     ]
    }
   ],
   "source": [
    "for  i in  range( 5):\n",
    "    for j in range(5-i):\n",
    "        print(end=\" \")\n",
    "        \n",
    "    for k in range(i):\n",
    "        print('*',end=\" \")\n",
    "    print()\n",
    "\n",
    "\n",
    "for  i in  range( 5):\n",
    "    for j in range( i):\n",
    "        print(end=\" \")\n",
    "        \n",
    "    for k in range(5-i):\n",
    "        print('*',end=\" \")\n",
    "    print()\n"
   ]
  },
  {
   "cell_type": "code",
   "execution_count": null,
   "metadata": {},
   "outputs": [],
   "source": []
  }
 ],
 "metadata": {
  "kernelspec": {
   "display_name": "Python 3",
   "language": "python",
   "name": "python3"
  },
  "language_info": {
   "codemirror_mode": {
    "name": "ipython",
    "version": 3
   },
   "file_extension": ".py",
   "mimetype": "text/x-python",
   "name": "python",
   "nbconvert_exporter": "python",
   "pygments_lexer": "ipython3",
   "version": "3.11.1"
  },
  "orig_nbformat": 4
 },
 "nbformat": 4,
 "nbformat_minor": 2
}
